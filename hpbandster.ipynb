{
  "nbformat": 4,
  "nbformat_minor": 0,
  "metadata": {
    "colab": {
      "name": "Untitled3.ipynb",
      "version": "0.3.2",
      "provenance": [],
      "include_colab_link": true
    },
    "kernelspec": {
      "name": "python3",
      "display_name": "Python 3"
    }
  },
  "cells": [
    {
      "cell_type": "markdown",
      "metadata": {
        "id": "view-in-github",
        "colab_type": "text"
      },
      "source": [
        "<a href=\"https://colab.research.google.com/github/EmanueleCannizzaro/google_colaboratory/blob/master/hpbandster.ipynb\" target=\"_parent\"><img src=\"https://colab.research.google.com/assets/colab-badge.svg\" alt=\"Open In Colab\"/></a>"
      ]
    },
    {
      "cell_type": "code",
      "metadata": {
        "id": "_QphVB2pQPIE",
        "colab_type": "code",
        "colab": {
          "base_uri": "https://localhost:8080/",
          "height": 644
        },
        "outputId": "fda5e35c-abcc-4993-9097-2759cbe738a9"
      },
      "source": [
        "!pip install hpbandster"
      ],
      "execution_count": 0,
      "outputs": [
        {
          "output_type": "stream",
          "text": [
            "Collecting hpbandster\n",
            "\u001b[?25l  Downloading https://files.pythonhosted.org/packages/13/3e/62192b0bb527d9353d222b4b6df14400b3c4f36a92a2b138f11a5eafe000/hpbandster-0.7.4.tar.gz (51kB)\n",
            "\u001b[K     |████████████████████████████████| 61kB 2.4MB/s \n",
            "\u001b[?25hCollecting Pyro4 (from hpbandster)\n",
            "\u001b[?25l  Downloading https://files.pythonhosted.org/packages/7f/95/2b4f9828a750545a7932400547a756db863561f01cd003d585b6fc255be8/Pyro4-4.76-py2.py3-none-any.whl (90kB)\n",
            "\u001b[K     |████████████████████████████████| 92kB 6.7MB/s \n",
            "\u001b[?25hCollecting serpent (from hpbandster)\n",
            "  Downloading https://files.pythonhosted.org/packages/27/8a/873ccbe1d3d0f81d136686e4d0f38619ac1e718cff7d68f80e364dc52a8c/serpent-1.28-py2.py3-none-any.whl\n",
            "Collecting ConfigSpace (from hpbandster)\n",
            "\u001b[?25l  Downloading https://files.pythonhosted.org/packages/42/de/4e8e4f26332fc65404f52baa112defbf822b6738b60bfa6b2993f5c60933/ConfigSpace-0.4.10.tar.gz (882kB)\n",
            "\u001b[K     |████████████████████████████████| 890kB 8.5MB/s \n",
            "\u001b[?25hRequirement already satisfied: numpy in /usr/local/lib/python3.6/dist-packages (from hpbandster) (1.16.4)\n",
            "Requirement already satisfied: statsmodels in /usr/local/lib/python3.6/dist-packages (from hpbandster) (0.10.1)\n",
            "Requirement already satisfied: scipy in /usr/local/lib/python3.6/dist-packages (from hpbandster) (1.3.0)\n",
            "Collecting netifaces (from hpbandster)\n",
            "  Downloading https://files.pythonhosted.org/packages/0c/9b/c4c7eb09189548d45939a3d3a6b3d53979c67d124459b27a094c365c347f/netifaces-0.10.9-cp36-cp36m-manylinux1_x86_64.whl\n",
            "Requirement already satisfied: pyparsing in /usr/local/lib/python3.6/dist-packages (from ConfigSpace->hpbandster) (2.4.2)\n",
            "Requirement already satisfied: typing in /usr/local/lib/python3.6/dist-packages (from ConfigSpace->hpbandster) (3.7.4)\n",
            "Requirement already satisfied: Cython in /usr/local/lib/python3.6/dist-packages (from ConfigSpace->hpbandster) (0.29.13)\n",
            "Requirement already satisfied: pandas>=0.19 in /usr/local/lib/python3.6/dist-packages (from statsmodels->hpbandster) (0.24.2)\n",
            "Requirement already satisfied: patsy>=0.4.0 in /usr/local/lib/python3.6/dist-packages (from statsmodels->hpbandster) (0.5.1)\n",
            "Requirement already satisfied: pytz>=2011k in /usr/local/lib/python3.6/dist-packages (from pandas>=0.19->statsmodels->hpbandster) (2018.9)\n",
            "Requirement already satisfied: python-dateutil>=2.5.0 in /usr/local/lib/python3.6/dist-packages (from pandas>=0.19->statsmodels->hpbandster) (2.5.3)\n",
            "Requirement already satisfied: six in /usr/local/lib/python3.6/dist-packages (from patsy>=0.4.0->statsmodels->hpbandster) (1.12.0)\n",
            "Building wheels for collected packages: hpbandster, ConfigSpace\n",
            "  Building wheel for hpbandster (setup.py) ... \u001b[?25l\u001b[?25hdone\n",
            "  Created wheel for hpbandster: filename=hpbandster-0.7.4-cp36-none-any.whl size=80007 sha256=a47b3c7c4a3e3e21c91bea10b1cc996b444ba8179b448448afb6d975d1f36fb3\n",
            "  Stored in directory: /root/.cache/pip/wheels/9d/57/62/6b00c8011bac96e0c404adc5be4e16964ba4544614240b4e23\n",
            "  Building wheel for ConfigSpace (setup.py) ... \u001b[?25l\u001b[?25hdone\n",
            "  Created wheel for ConfigSpace: filename=ConfigSpace-0.4.10-cp36-cp36m-linux_x86_64.whl size=2712276 sha256=2647386f75be6068737bb7839b4c9e4cc1bf8fb22d147ee80abf1d46f9f5a685\n",
            "  Stored in directory: /root/.cache/pip/wheels/75/83/cb/28dd42bac69c8867d485138030daa83841c7f84afe68b2fdf7\n",
            "Successfully built hpbandster ConfigSpace\n",
            "Installing collected packages: serpent, Pyro4, ConfigSpace, netifaces, hpbandster\n",
            "Successfully installed ConfigSpace-0.4.10 Pyro4-4.76 hpbandster-0.7.4 netifaces-0.10.9 serpent-1.28\n"
          ],
          "name": "stdout"
        }
      ]
    },
    {
      "cell_type": "code",
      "metadata": {
        "id": "XMzTgnM1QGsG",
        "colab_type": "code",
        "colab": {}
      },
      "source": [
        "\n",
        "\"\"\"\n",
        "Example 1 - Local and Sequential\n",
        "================================\n",
        "\"\"\"\n",
        "import logging\n",
        "logging.basicConfig(level=logging.WARNING)\n",
        "\n",
        "import argparse\n",
        "\n",
        "import hpbandster.core.nameserver as hpns\n",
        "import hpbandster.core.result as hpres\n",
        "\n",
        "from hpbandster.optimizers import BOHB as BOHB\n",
        "from hpbandster.examples.commons import MyWorker\n",
        "\n",
        "\n",
        "\n",
        "parser = argparse.ArgumentParser(description='Example 1 - sequential and local execution.')\n",
        "parser.add_argument('--min_budget',   type=float, help='Minimum budget used during the optimization.',    default=9)\n",
        "parser.add_argument('--max_budget',   type=float, help='Maximum budget used during the optimization.',    default=243)\n",
        "parser.add_argument('--n_iterations', type=int,   help='Number of iterations performed by the optimizer', default=4)\n",
        "args=parser.parse_args()\n",
        "\n",
        "\n",
        "# Step 1: Start a nameserver\n",
        "# Every run needs a nameserver. It could be a 'static' server with a\n",
        "# permanent address, but here it will be started for the local machine with the default port.\n",
        "# The nameserver manages the concurrent running workers across all possible threads or clusternodes.\n",
        "# Note the run_id argument. This uniquely identifies a run of any HpBandSter optimizer.\n",
        "NS = hpns.NameServer(run_id='example1', host='127.0.0.1', port=None)\n",
        "NS.start()\n",
        "\n",
        "# Step 2: Start a worker\n",
        "# Now we can instantiate a worker, providing the mandatory information\n",
        "# Besides the sleep_interval, we need to define the nameserver information and\n",
        "# the same run_id as above. After that, we can start the worker in the background,\n",
        "# where it will wait for incoming configurations to evaluate.\n",
        "w = MyWorker(sleep_interval = 0, nameserver='127.0.0.1',run_id='example1')\n",
        "w.run(background=True)\n",
        "\n",
        "# Step 3: Run an optimizer\n",
        "# Now we can create an optimizer object and start the run.\n",
        "# Here, we run BOHB, but that is not essential.\n",
        "# The run method will return the `Result` that contains all runs performed.\n",
        "bohb = BOHB(  configspace = w.get_configspace(),\n",
        "              run_id = 'example1', nameserver='127.0.0.1',\n",
        "              min_budget=args.min_budget, max_budget=args.max_budget\n",
        "           )\n",
        "res = bohb.run(n_iterations=args.n_iterations)\n",
        "\n",
        "# Step 4: Shutdown\n",
        "# After the optimizer run, we must shutdown the master and the nameserver.\n",
        "bohb.shutdown(shutdown_workers=True)\n",
        "NS.shutdown()\n",
        "\n",
        "# Step 5: Analysis\n",
        "# Each optimizer returns a hpbandster.core.result.Result object.\n",
        "# It holds informations about the optimization run like the incumbent (=best) configuration.\n",
        "# For further details about the Result object, see its documentation.\n",
        "# Here we simply print out the best config and some statistics about the performed runs.\n",
        "id2config = res.get_id2config_mapping()\n",
        "incumbent = res.get_incumbent_id()\n",
        "\n",
        "print('Best found configuration:', id2config[incumbent]['config'])\n",
        "print('A total of %i unique configurations where sampled.' % len(id2config.keys()))\n",
        "print('A total of %i runs where executed.' % len(res.get_all_runs()))\n",
        "print('Total budget corresponds to %.1f full function evaluations.'%(sum([r.budget for r in res.get_all_runs()])/args.max_budget))"
      ],
      "execution_count": 0,
      "outputs": []
    },
    {
      "cell_type": "code",
      "metadata": {
        "id": "lvERACybQK93",
        "colab_type": "code",
        "colab": {}
      },
      "source": [
        ""
      ],
      "execution_count": 0,
      "outputs": []
    }
  ]
}